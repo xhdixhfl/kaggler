{
  "nbformat": 4,
  "nbformat_minor": 0,
  "metadata": {
    "colab": {
      "provenance": [],
      "authorship_tag": "ABX9TyNhGsDdzazldWDmSm3w0Hgu",
      "include_colab_link": true
    },
    "kernelspec": {
      "name": "python3",
      "display_name": "Python 3"
    },
    "language_info": {
      "name": "python"
    }
  },
  "cells": [
    {
      "cell_type": "markdown",
      "metadata": {
        "id": "view-in-github",
        "colab_type": "text"
      },
      "source": [
        "<a href=\"https://colab.research.google.com/github/xhdixhfl/kaggler/blob/main/numpy%2C_pandas.ipynb\" target=\"_parent\"><img src=\"https://colab.research.google.com/assets/colab-badge.svg\" alt=\"Open In Colab\"/></a>"
      ]
    },
    {
      "cell_type": "markdown",
      "source": [
        "# while을 이용한 평균구하기"
      ],
      "metadata": {
        "id": "SCj-D1rfAbqM"
      }
    },
    {
      "cell_type": "code",
      "execution_count": 4,
      "metadata": {
        "colab": {
          "base_uri": "https://localhost:8080/"
        },
        "id": "epWq4-jq-o13",
        "outputId": "460653ff-98b1-4e77-ab5a-d4f8c7c092b4"
      },
      "outputs": [
        {
          "output_type": "stream",
          "name": "stdout",
          "text": [
            "enter a numbeer (enter key = quit)50\n",
            "enter a numbeer (enter key = quit) \n",
            "Not a  number!\n",
            "enter a numbeer (enter key = quit)64\n",
            "enter a numbeer (enter key = quit)\n",
            "average=57.0\n"
          ]
        }
      ],
      "source": [
        "total = 0\n",
        "count = 0\n",
        "num = input(\"enter a numbeer (enter key = quit)\")\n",
        "\n",
        "while num != \"\":\n",
        "  try:\n",
        "    x = float(num)\n",
        "    count += 1\n",
        "    total = total +x\n",
        "  except ValueError:\n",
        "    print('Not a  number!')\n",
        "  num = input(\"enter a numbeer (enter key = quit)\")\n",
        "avg = total / count\n",
        "print(f'average={avg}')\n",
        "    "
      ]
    },
    {
      "cell_type": "markdown",
      "source": [
        "# 배열\n",
        "- 다른 언어에서는 배열의 크기를 정해둬야하는 경우가 있지만 파이썬의 리스트의 경우는 임의의 데이터타입을 담을수 있는 가변적 연속열(Sequence)형이다. 즉, 동적배열(Dynamic Array)"
      ],
      "metadata": {
        "id": "eMXqy_HXAi5Q"
      }
    },
    {
      "cell_type": "code",
      "source": [
        "def nums():\n",
        "  X= [ ] \n",
        "  while True:\n",
        "    num = input(\"enter a number(if you want quit, enter key)\")\n",
        "    while num != \"\":\n",
        "      try:\n",
        "        x = float(num)\n",
        "        X.append(x)\n",
        "      except ValueError:\n",
        "        print('Not a number')\n",
        "      num =  input(\"enter a number(if you want quit, enter key)\")\n",
        "    if len(X) > 1:\n",
        "      return X\n",
        "\n",
        "\n",
        "X= nums()\n",
        "print('X = ', X)"
      ],
      "metadata": {
        "colab": {
          "base_uri": "https://localhost:8080/"
        },
        "id": "pVYrQOBI_wua",
        "outputId": "3fb33046-cb41-42a5-9c94-20208f9f928c"
      },
      "execution_count": 7,
      "outputs": [
        {
          "output_type": "stream",
          "name": "stdout",
          "text": [
            "enter a number(if you want quit, enter key)50\n",
            "enter a number(if you want quit, enter key)1\n",
            "enter a number(if you want quit, enter key)64\n",
            "enter a number(if you want quit, enter key)32\n",
            "enter a number(if you want quit, enter key)05 \n",
            "enter a number(if you want quit, enter key)\n",
            "X =  [50.0, 1.0, 64.0, 32.0, 5.0]\n"
          ]
        }
      ]
    },
    {
      "cell_type": "code",
      "source": [
        "import array as arr\n",
        "\n",
        "mls = [1,2,3]\n",
        "print(type(mls))\n",
        "\n",
        "mls.append('4') # 끝자리에 추가\n",
        "print(mls)\n",
        "\n",
        "mls.insert(1,5) # 1자리에 5 삽입\n",
        "print(mls)\n",
        "\n",
        "marr = arr.array('i', [1,2,3])\n",
        "print(type(marr))\n",
        "print(marr)\n",
        "\n",
        "marr.insert(1,5)\n",
        "print(marr)"
      ],
      "metadata": {
        "colab": {
          "base_uri": "https://localhost:8080/"
        },
        "id": "QeBwy6viBZ3S",
        "outputId": "912f09a1-228c-40d7-fdc1-0126b8c4b6cd"
      },
      "execution_count": 8,
      "outputs": [
        {
          "output_type": "stream",
          "name": "stdout",
          "text": [
            "<class 'list'>\n",
            "[1, 2, 3, '4']\n",
            "[1, 5, 2, 3, '4']\n",
            "<class 'array.array'>\n",
            "array('i', [1, 2, 3])\n",
            "array('i', [1, 5, 2, 3])\n"
          ]
        }
      ]
    },
    {
      "cell_type": "code",
      "source": [
        "# list를 활용한 시그마 표현\n",
        "tot = 0.0\n",
        "for i in range(len(X)):\n",
        "  tot = tot+X[i]\n",
        "mean = tot / len(X)\n",
        "\n",
        "print('sum of X', tot)"
      ],
      "metadata": {
        "colab": {
          "base_uri": "https://localhost:8080/"
        },
        "id": "1SdMWSBUDAG6",
        "outputId": "d3967be7-ba79-4c36-8a67-c4daaf22ee95"
      },
      "execution_count": 9,
      "outputs": [
        {
          "output_type": "stream",
          "name": "stdout",
          "text": [
            "sum of X 152.0\n"
          ]
        }
      ]
    },
    {
      "cell_type": "code",
      "source": [
        "# median 구현 코드\n",
        "def median(nums):\n",
        "  nums.sort() # 정렬 먼저\n",
        "  size = len(nums)\n",
        "  p = size // 2\n",
        "  if size % 2 ==0:\n",
        "    pr = p\n",
        "    pl = p-1\n",
        "    mid = float((nums[pl]+nums[pr])/2)\n",
        "  else:\n",
        "    mid = nums[p]\n",
        "  return mid\n",
        "print(\"X:\", X)\n",
        "median(X)"
      ],
      "metadata": {
        "colab": {
          "base_uri": "https://localhost:8080/"
        },
        "id": "doQS2J3lDZ2G",
        "outputId": "51842992-b2ce-4e6d-ba6e-9ec62b40a79e"
      },
      "execution_count": 10,
      "outputs": [
        {
          "output_type": "stream",
          "name": "stdout",
          "text": [
            "X: [50.0, 1.0, 64.0, 32.0, 5.0]\n"
          ]
        },
        {
          "output_type": "execute_result",
          "data": {
            "text/plain": [
              "32.0"
            ]
          },
          "metadata": {},
          "execution_count": 10
        }
      ]
    },
    {
      "cell_type": "code",
      "source": [
        "# 평균\n",
        "def means(nums):\n",
        "  tot = 0.0\n",
        "  for i in range(len(nums)):\n",
        "    tot = tot + nums[i]\n",
        "  return tot / len(nums)\n",
        "\n",
        "avg = means(X)\n",
        "\n",
        "# 표준편차\n",
        "def std_dev(nums, avg):\n",
        "  texp =0.0\n",
        "  for i in range(len(nums)):\n",
        "    texp = texp + (nums[i]-avg)**2\n",
        "  return (texp/(len(nums)-1)) ** 0.5\n",
        "\n",
        "std_dev(X,avg)"
      ],
      "metadata": {
        "colab": {
          "base_uri": "https://localhost:8080/"
        },
        "id": "ykGUIupHD8PJ",
        "outputId": "cf84a352-629d-4af9-8f4d-3921b5d12053"
      },
      "execution_count": 11,
      "outputs": [
        {
          "output_type": "execute_result",
          "data": {
            "text/plain": [
              "27.50090907588329"
            ]
          },
          "metadata": {},
          "execution_count": 11
        }
      ]
    },
    {
      "cell_type": "code",
      "source": [
        "# 전체 \n",
        "def main():\n",
        "  X= nums()\n",
        "  med = median(X)\n",
        "  avg = means(X)\n",
        "  std = std_dev(X,avg)\n",
        "  print(f\"당신이 입력한 숫자{X}의\")\n",
        "  print(\"중앙값은 {}, 평균은 {}, 표준편자는 {}입니다.\".format(med, avg, std))\n",
        "\n",
        "if __name__ == '__main__':\n",
        "  main()"
      ],
      "metadata": {
        "colab": {
          "base_uri": "https://localhost:8080/"
        },
        "id": "cqow2W9TEuZl",
        "outputId": "c23d9b26-896e-4756-84ca-63cc41a8834d"
      },
      "execution_count": 12,
      "outputs": [
        {
          "output_type": "stream",
          "name": "stdout",
          "text": [
            "enter a number(if you want quit, enter key)45\n",
            "enter a number(if you want quit, enter key)18\n",
            "enter a number(if you want quit, enter key)20\n",
            "enter a number(if you want quit, enter key)156\n",
            "enter a number(if you want quit, enter key)\n",
            "당신이 입력한 숫자[18.0, 20.0, 45.0, 156.0]의\n",
            "중앙값은 32.5, 평균은 59.75, 표준편자는 65.3318452211477입니다.\n"
          ]
        }
      ]
    },
    {
      "cell_type": "markdown",
      "source": [
        "# numpy\n",
        "## ndarray 만들기"
      ],
      "metadata": {
        "id": "YGqudPv9Fkq-"
      }
    },
    {
      "cell_type": "code",
      "source": [
        "import numpy as np\n",
        "\n",
        "A = np.arange(5)\n",
        "B = np.array([0,1,2,3,4])\n",
        "\n",
        "C = np.array([0,1,2,3,'4'])\n",
        "\n",
        "D = np.ndarray((5,), np.int64, np.array([0,1,2,3,4]))\n",
        "\n",
        "print(A, type(A))\n",
        "print(\"-\"*20)\n",
        "print(B, type(B))\n",
        "print(\"-\"*20)\n",
        "print(C, type(C))\n",
        "print(\"-\"*20)\n",
        "print(D, type(D))\n",
        "print(\"-\"*20)"
      ],
      "metadata": {
        "colab": {
          "base_uri": "https://localhost:8080/"
        },
        "id": "oKVU8l2_FfCa",
        "outputId": "be4233eb-485b-4573-bf20-8f9d2392848a"
      },
      "execution_count": 14,
      "outputs": [
        {
          "output_type": "stream",
          "name": "stdout",
          "text": [
            "[0 1 2 3 4] <class 'numpy.ndarray'>\n",
            "--------------------\n",
            "[0 1 2 3 4] <class 'numpy.ndarray'>\n",
            "--------------------\n",
            "['0' '1' '2' '3' '4'] <class 'numpy.ndarray'>\n",
            "--------------------\n",
            "[0 1 2 3 4] <class 'numpy.ndarray'>\n",
            "--------------------\n"
          ]
        }
      ]
    },
    {
      "cell_type": "markdown",
      "source": [
        "## 크기(size, shape, ndim)"
      ],
      "metadata": {
        "id": "hpHy9cYVGpDt"
      }
    },
    {
      "cell_type": "code",
      "source": [
        "A = np.arange(10).reshape(2, 5) # 1차원 길이 10 행렬을 2X5 2차원 행렬로\n",
        "\n",
        "print('shape : ', A.shape)\n",
        "print('dim : ', A.ndim)\n",
        "print('size : ', A.size)"
      ],
      "metadata": {
        "colab": {
          "base_uri": "https://localhost:8080/"
        },
        "id": "z-NSKVD4GhEm",
        "outputId": "11995be4-c37b-455d-fb00-b7e6f1b41ef7"
      },
      "execution_count": 15,
      "outputs": [
        {
          "output_type": "stream",
          "name": "stdout",
          "text": [
            "shape :  (2, 5)\n",
            "dim :  2\n",
            "size :  10\n"
          ]
        }
      ]
    },
    {
      "cell_type": "code",
      "source": [
        "A = np.arange(6).reshape(2,3)\n",
        "print(A, A.dtype, type(A))\n",
        "print('-'*20)\n",
        "\n",
        "B = np.array([0,1,2,3,4,5])\n",
        "print(B, B.dtype, type(B))\n",
        "print('-'*20)\n",
        "\n",
        "C = np.array([0,1,2,3,'4',5])\n",
        "print(C, C.dtype, type(C))\n",
        "print('-'*20)\n",
        "\n",
        "D = np.array([0,1,2,3,[4,5], 6])\n",
        "print(D, D.dtype, type(D))\n",
        "print('-'*20)    # 경고는 뜨지만, 리스트보다 큰 객체로 인식해줌"
      ],
      "metadata": {
        "colab": {
          "base_uri": "https://localhost:8080/"
        },
        "id": "wzWdKfa8HIsl",
        "outputId": "863285ea-0fc2-4701-bf4c-4a5333b9a68d"
      },
      "execution_count": 16,
      "outputs": [
        {
          "output_type": "stream",
          "name": "stdout",
          "text": [
            "[[0 1 2]\n",
            " [3 4 5]] int64 <class 'numpy.ndarray'>\n",
            "--------------------\n",
            "[0 1 2 3 4 5] int64 <class 'numpy.ndarray'>\n",
            "--------------------\n",
            "['0' '1' '2' '3' '4' '5'] <U21 <class 'numpy.ndarray'>\n",
            "--------------------\n",
            "[0 1 2 3 list([4, 5]) 6] object <class 'numpy.ndarray'>\n",
            "--------------------\n"
          ]
        },
        {
          "output_type": "stream",
          "name": "stderr",
          "text": [
            "<ipython-input-16-7c2a86ae63b0>:13: VisibleDeprecationWarning: Creating an ndarray from ragged nested sequences (which is a list-or-tuple of lists-or-tuples-or ndarrays with different lengths or shapes) is deprecated. If you meant to do this, you must specify 'dtype=object' when creating the ndarray.\n",
            "  D = np.array([0,1,2,3,[4,5], 6])\n"
          ]
        }
      ]
    },
    {
      "cell_type": "code",
      "source": [
        "C = np.array([0,1,2,3,'4',5])\n",
        "print(C[0])\n",
        "print(type(C[0]))\n",
        "print(C[4])\n",
        "print(type(C[4]))\n",
        "print(\"------------------------------\")\n",
        "\n",
        "D = np.array([0,1,2,3,[4,5],6])\n",
        "print(D[0])\n",
        "print(type(D[0]))\n",
        "print(D[4])\n",
        "print(type(D[4]))"
      ],
      "metadata": {
        "colab": {
          "base_uri": "https://localhost:8080/"
        },
        "id": "85es5VH-H6rb",
        "outputId": "ab60b27c-882d-4cd7-eff0-3737ec987832"
      },
      "execution_count": 17,
      "outputs": [
        {
          "output_type": "stream",
          "name": "stdout",
          "text": [
            "0\n",
            "<class 'numpy.str_'>\n",
            "4\n",
            "<class 'numpy.str_'>\n",
            "------------------------------\n",
            "0\n",
            "<class 'int'>\n",
            "[4, 5]\n",
            "<class 'list'>\n"
          ]
        },
        {
          "output_type": "stream",
          "name": "stderr",
          "text": [
            "<ipython-input-17-0979e0fcd31a>:8: VisibleDeprecationWarning: Creating an ndarray from ragged nested sequences (which is a list-or-tuple of lists-or-tuples-or ndarrays with different lengths or shapes) is deprecated. If you meant to do this, you must specify 'dtype=object' when creating the ndarray.\n",
            "  D = np.array([0,1,2,3,[4,5],6])\n"
          ]
        }
      ]
    },
    {
      "cell_type": "markdown",
      "source": [
        "- C[0]해당하는 숫자 0은 행렬 안에 문자열 '0'으로 들어가 있었음.\n",
        "- 그러나 D[0]에 해당하는 숫자 0은 여전히 행렬 안에 정수 0으로 들어가 있음\n",
        "- NumPy는 어떤 경우라도 Array 답게 연산속도를 최적화하도록 원소들을 관리하지만, 필요에 따라 가장 효율적인 방법으로 type을 변화시켜 관리함"
      ],
      "metadata": {
        "id": "514VpY5nIbYg"
      }
    },
    {
      "cell_type": "markdown",
      "source": [
        "## 특수행렬"
      ],
      "metadata": {
        "id": "YGD-uCUVIoTO"
      }
    },
    {
      "cell_type": "code",
      "source": [
        "# 단위 행렬\n",
        "print(np.eye(3))\n",
        "print('-'* 20)\n",
        "# 0행렬\n",
        "print(np.zeros([2,3]))\n",
        "print('-'* 20)\n",
        "# 1행렬\n",
        "print(np.ones([3,3]))"
      ],
      "metadata": {
        "colab": {
          "base_uri": "https://localhost:8080/"
        },
        "id": "yx_elnPrIV47",
        "outputId": "23955942-efb8-4e79-92ab-449535f543d1"
      },
      "execution_count": 20,
      "outputs": [
        {
          "output_type": "stream",
          "name": "stdout",
          "text": [
            "[[1. 0. 0.]\n",
            " [0. 1. 0.]\n",
            " [0. 0. 1.]]\n",
            "--------------------\n",
            "[[0. 0. 0.]\n",
            " [0. 0. 0.]]\n",
            "--------------------\n",
            "[[1. 1. 1.]\n",
            " [1. 1. 1.]\n",
            " [1. 1. 1.]]\n"
          ]
        }
      ]
    },
    {
      "cell_type": "markdown",
      "source": [
        "## broadcast"
      ],
      "metadata": {
        "id": "SDd_JUV7JHy9"
      }
    },
    {
      "cell_type": "code",
      "source": [
        "A = np.arange(9).reshape(3,3)\n",
        "print('raw ', A)\n",
        "\n",
        "print('A에 2를 상수배 \\n ' , A*2)\n",
        "\n",
        "print('A + 2 \\n ', A + 2)\n",
        "\n",
        "B = np.array([1,2,3]) # 1X3 배열\n",
        "print('A+B \\n', A+B)\n",
        "print('A*B \\n', A*B)"
      ],
      "metadata": {
        "colab": {
          "base_uri": "https://localhost:8080/"
        },
        "id": "Mflx9RLbI1dT",
        "outputId": "0bc57dc6-ab90-4c5a-cfbc-b283b38e92ce"
      },
      "execution_count": 27,
      "outputs": [
        {
          "output_type": "stream",
          "name": "stdout",
          "text": [
            "raw  [[0 1 2]\n",
            " [3 4 5]\n",
            " [6 7 8]]\n",
            "A에 2를 상수배 \n",
            "  [[ 0  2  4]\n",
            " [ 6  8 10]\n",
            " [12 14 16]]\n",
            "A + 2 \n",
            "  [[ 2  3  4]\n",
            " [ 5  6  7]\n",
            " [ 8  9 10]]\n",
            "A+B \n",
            " [[ 1  3  5]\n",
            " [ 4  6  8]\n",
            " [ 7  9 11]]\n",
            "A*B \n",
            " [[ 0  2  6]\n",
            " [ 3  8 15]\n",
            " [ 6 14 24]]\n"
          ]
        }
      ]
    },
    {
      "cell_type": "code",
      "source": [
        "# 슬라이싱\n",
        "# 이 슬라이싱의 결과는 \n",
        "print(A[:,2:])\n",
        "print(\"--------------\")\n",
        "print(A[:,1:])\n",
        "print(\"--------------\")\n",
        "print(A[:,:])\n",
        "print(\"--------------\")\n",
        "# 이 슬라이싱의 결과와 동일합니다.\n",
        "print(A[:,-1:])\n",
        "print(\"--------------\")\n",
        "print(A[:,-2:])\n",
        "print(\"--------------\")\n",
        "print(A[:,-3:])"
      ],
      "metadata": {
        "colab": {
          "base_uri": "https://localhost:8080/"
        },
        "id": "z9BhLpsmJgmX",
        "outputId": "8dc0c373-60fd-4ccb-f7c1-02a54f88e83c"
      },
      "execution_count": 28,
      "outputs": [
        {
          "output_type": "stream",
          "name": "stdout",
          "text": [
            "[[2]\n",
            " [5]\n",
            " [8]]\n",
            "--------------\n",
            "[[1 2]\n",
            " [4 5]\n",
            " [7 8]]\n",
            "--------------\n",
            "[[0 1 2]\n",
            " [3 4 5]\n",
            " [6 7 8]]\n",
            "--------------\n",
            "[[2]\n",
            " [5]\n",
            " [8]]\n",
            "--------------\n",
            "[[1 2]\n",
            " [4 5]\n",
            " [7 8]]\n",
            "--------------\n",
            "[[0 1 2]\n",
            " [3 4 5]\n",
            " [6 7 8]]\n"
          ]
        }
      ]
    },
    {
      "cell_type": "code",
      "source": [
        "A[:,-1]"
      ],
      "metadata": {
        "colab": {
          "base_uri": "https://localhost:8080/"
        },
        "id": "razTKDdaKhmv",
        "outputId": "ce8a4604-9739-46e7-cae0-2299b811857e"
      },
      "execution_count": 29,
      "outputs": [
        {
          "output_type": "execute_result",
          "data": {
            "text/plain": [
              "array([2, 5, 8])"
            ]
          },
          "metadata": {},
          "execution_count": 29
        }
      ]
    },
    {
      "cell_type": "markdown",
      "source": [
        "## Random"
      ],
      "metadata": {
        "id": "F93oo6AZKq7r"
      }
    },
    {
      "cell_type": "code",
      "source": [
        "# 의사 난수를 생성\n",
        "print(np.random.random())   # 0에서 1사이의 실수형 난수 하나를 생성\n",
        "\n",
        "print(np.random.randint(0,10))   # 0~9 사이 1개 정수형 난수 하나를 생성\n",
        "\n",
        "print(np.random.choice([0,1,2,3,4,5,6,7,8,9]))   # 리스트에 주어진 값 중 하나를 랜덤"
      ],
      "metadata": {
        "colab": {
          "base_uri": "https://localhost:8080/"
        },
        "id": "v0R6yvs8KnpL",
        "outputId": "fcc5b061-05b8-47df-ca16-cca87a15dc8d"
      },
      "execution_count": 30,
      "outputs": [
        {
          "output_type": "stream",
          "name": "stdout",
          "text": [
            "0.5821364547464386\n",
            "4\n",
            "3\n"
          ]
        }
      ]
    },
    {
      "cell_type": "code",
      "source": [
        "# 무작위로 섞인 배열 생성\n",
        "# 아래 2가지 기능면에서 동일. \n",
        "\n",
        "print(np.random.permutation(10))   \n",
        "print(np.random.permutation([0,1,2,3,4,5,6,7,8,9]))"
      ],
      "metadata": {
        "colab": {
          "base_uri": "https://localhost:8080/"
        },
        "id": "ORqAYw8TKyL4",
        "outputId": "b862b6b9-91a3-4475-c627-71d471c89911"
      },
      "execution_count": 31,
      "outputs": [
        {
          "output_type": "stream",
          "name": "stdout",
          "text": [
            "[5 9 0 6 7 1 3 8 2 4]\n",
            "[2 6 0 1 3 9 4 5 7 8]\n"
          ]
        }
      ]
    },
    {
      "cell_type": "code",
      "source": [
        "# 아래 기능들은 어떤 분포를 따르는 변수를 임의로 표본추출\n",
        "\n",
        "# 정규분포\n",
        "print(np.random.normal(loc=0, scale=1, size=5))    # 평균(loc), 표준편차(scale), 추출개수(size)를 조절가능\n",
        "\n",
        "#  균등분포\n",
        "print(np.random.uniform(low=-1, high=1, size=5))  # 최소(low), 최대(high), 추출개수(size)를 조절가능"
      ],
      "metadata": {
        "colab": {
          "base_uri": "https://localhost:8080/"
        },
        "id": "96oqwIw5KyH0",
        "outputId": "d3d07b5f-49d4-4fc5-8b17-71e500574d84"
      },
      "execution_count": 32,
      "outputs": [
        {
          "output_type": "stream",
          "name": "stdout",
          "text": [
            "[ 0.57972657  0.25470068 -0.4907568  -1.44662862  0.26058853]\n",
            "[-0.26916093  0.15672781 -0.83384785 -0.6229987   0.78671151]\n"
          ]
        }
      ]
    },
    {
      "cell_type": "markdown",
      "source": [
        "## 전치행렬"
      ],
      "metadata": {
        "id": "j_7Jd4OaK2m3"
      }
    },
    {
      "cell_type": "code",
      "source": [
        "A = np.arange(24).reshape(2,3,4)\n",
        "print(\"A:\", A)               # A는 (2,3,4)의 shape\n",
        "print(\"A의 전치행렬:\", A.T)            \n",
        "print(\"A의 전치행렬의 shape:\", A.T.shape) # A의 전치행렬은 (4,3,2)의 shape"
      ],
      "metadata": {
        "colab": {
          "base_uri": "https://localhost:8080/"
        },
        "id": "9YiUzTDJKx-k",
        "outputId": "b917507c-3bd8-4ba1-80d0-79d9bfc2dad2"
      },
      "execution_count": 33,
      "outputs": [
        {
          "output_type": "stream",
          "name": "stdout",
          "text": [
            "A: [[[ 0  1  2  3]\n",
            "  [ 4  5  6  7]\n",
            "  [ 8  9 10 11]]\n",
            "\n",
            " [[12 13 14 15]\n",
            "  [16 17 18 19]\n",
            "  [20 21 22 23]]]\n",
            "A의 전치행렬: [[[ 0 12]\n",
            "  [ 4 16]\n",
            "  [ 8 20]]\n",
            "\n",
            " [[ 1 13]\n",
            "  [ 5 17]\n",
            "  [ 9 21]]\n",
            "\n",
            " [[ 2 14]\n",
            "  [ 6 18]\n",
            "  [10 22]]\n",
            "\n",
            " [[ 3 15]\n",
            "  [ 7 19]\n",
            "  [11 23]]]\n",
            "A의 전치행렬의 shape: (4, 3, 2)\n"
          ]
        }
      ]
    },
    {
      "cell_type": "code",
      "source": [
        "# np.transpose는 행렬의 축을 어떻게 변환해 줄지 임의로 지정해 줄 수 있는 일반적인 행렬 전치 함수. \n",
        "# np.transpose(A, (2,1,0)) 은 A.T와 같음\n",
        "\n",
        "B = np.transpose(A, (2,0,1))\n",
        "print(\"A:\", A)             # A는 (2,3,4)의 shape를 가진 행렬\n",
        "print(\"B:\", B)             # B는 A의 3, 1, 2번째 축을 자신의 1, 2, 3번째 축으로 가진 행렬.\n",
        "print(\"B.shape:\", B.shape)  # B는 (4,2,3)의 shape를 가진 행렬"
      ],
      "metadata": {
        "colab": {
          "base_uri": "https://localhost:8080/"
        },
        "id": "ZC04Wf52K948",
        "outputId": "5c300797-0db8-4619-c655-7a616fa5095a"
      },
      "execution_count": 34,
      "outputs": [
        {
          "output_type": "stream",
          "name": "stdout",
          "text": [
            "A: [[[ 0  1  2  3]\n",
            "  [ 4  5  6  7]\n",
            "  [ 8  9 10 11]]\n",
            "\n",
            " [[12 13 14 15]\n",
            "  [16 17 18 19]\n",
            "  [20 21 22 23]]]\n",
            "B: [[[ 0  4  8]\n",
            "  [12 16 20]]\n",
            "\n",
            " [[ 1  5  9]\n",
            "  [13 17 21]]\n",
            "\n",
            " [[ 2  6 10]\n",
            "  [14 18 22]]\n",
            "\n",
            " [[ 3  7 11]\n",
            "  [15 19 23]]]\n",
            "B.shape: (4, 2, 3)\n"
          ]
        }
      ]
    },
    {
      "cell_type": "code",
      "source": [
        "import numpy as np\n",
        "\n",
        "def numbers():\n",
        "    X = []\n",
        "    number = input(\"Enter a number (<Enter key> to quit)\") \n",
        "    # 하지만 2개 이상의 숫자를 받아야 한다는 제약조건을 제외함\n",
        "    while number != \"\":\n",
        "        try:\n",
        "            x = float(number)\n",
        "            X.append(x)\n",
        "        except ValueError:\n",
        "            print('>>> NOT a number! Ignored..')\n",
        "        number = input(\"Enter a number (<Enter key> to quit)\")\n",
        "    return X\n",
        "\n",
        "def main():\n",
        "    nums = numbers()    \n",
        "    num = np.array(nums)   # 리스트를 Numpy ndarray로 변환\n",
        "    print(\"합\", num.sum())\n",
        "    print(\"평균값\",num.mean())\n",
        "    print(\"표준편차\",num.std())\n",
        "    print(\"중앙값\",np.median(num))  \n",
        "\n",
        "main()"
      ],
      "metadata": {
        "colab": {
          "base_uri": "https://localhost:8080/"
        },
        "id": "ZpTcULJuK92e",
        "outputId": "b5ec9522-6433-4cd5-ab46-05b3518e441c"
      },
      "execution_count": 35,
      "outputs": [
        {
          "output_type": "stream",
          "name": "stdout",
          "text": [
            "Enter a number (<Enter key> to quit)51\n",
            "Enter a number (<Enter key> to quit)64\n",
            "Enter a number (<Enter key> to quit)8\n",
            "Enter a number (<Enter key> to quit)02\n",
            "Enter a number (<Enter key> to quit)\n",
            "합 125.0\n",
            "평균값 31.25\n",
            "표준편차 26.733639856929322\n",
            "중앙값 29.5\n"
          ]
        }
      ]
    },
    {
      "cell_type": "code",
      "source": [],
      "metadata": {
        "id": "GchYzeABK90V"
      },
      "execution_count": null,
      "outputs": []
    },
    {
      "cell_type": "code",
      "source": [],
      "metadata": {
        "id": "IPci0H2dK9yG"
      },
      "execution_count": null,
      "outputs": []
    },
    {
      "cell_type": "code",
      "source": [],
      "metadata": {
        "id": "G6kAT-axK9vl"
      },
      "execution_count": null,
      "outputs": []
    },
    {
      "cell_type": "code",
      "source": [],
      "metadata": {
        "id": "tMWNeZwdK9tU"
      },
      "execution_count": null,
      "outputs": []
    }
  ]
}